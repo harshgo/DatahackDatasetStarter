{
 "cells": [
  {
   "cell_type": "markdown",
   "metadata": {},
   "source": [
    "## USA dataset"
   ]
  },
  {
   "cell_type": "markdown",
   "metadata": {},
   "source": [
    "This dataset includes national and state-level information from 1990 to 2016. The indicators are listed and categorized below, and all information including the source and units are found in `usa_descriptions.csv` as also displayed in this notebook. The data is found in `usa.csv`\n",
    "\n",
    "Things to note: \n",
    "\n",
    "- Not every field (indicator) has data for every year from 1990-2016. Some have most years while others have only a few. Be sure to consider this when forming your hypotheses. We have provided an example of finding non-null years for various indicators in the examples below.\n",
    "\n",
    "- It can be difficult to visualize all states at once, and if you add the full United States to your graph it may mess up the axes. Maybe explore a subset of regions or try looking at % change when considering how various indicators changed over time.\n",
    "\n",
    "- We included an example of looking for a correlation between violent crime and bachelor's degrees below, including a linear regression line and R^2 coefficient. By inspection, the variables look fairly uncorrelated but there is a lot more to look for in this dataset. Trying different types of trend lines and metrics could yield interesting results. \n",
    "\n",
    "**Health**\n",
    "\n",
    "Birth rate\n",
    "\n",
    "Fertility Rate\n",
    "\n",
    "Cancer Incidence\n",
    "\n",
    "Crude Death Rate\n",
    "\n",
    "Infant Mortality Rate (< 1 year)\n",
    "\n",
    "Child Mortality Rate (1-4 years)\n",
    "\n",
    "Chlamydia Incidence\n",
    "\n",
    "Gonorrhea Incidence\n",
    "\n",
    "Primary and Secondary Syphillis Incidence\n",
    "\n",
    "**Education**\n",
    "\n",
    "18-to-24yr olds who had finished high school\n",
    "\n",
    "Population 25+ who have Bachelor's or higher degree\n",
    "\n",
    "Enrollment in Public Elementary and Secondary Schools\n",
    "\n",
    "Public Elementary and Secondary School Teachers\n",
    "\n",
    "Pupil/Teacher Ratios in Public Elementary and Secondary Schools\n",
    "\n",
    "Public High School Graduates\n",
    "\n",
    "Current Expenditure per Pupil in Average Daily Attendance in Public Elementary and Secondary Schools\n",
    "\n",
    "**Agriculture**\n",
    "\n",
    "Crops Production\n",
    "\n",
    "Land Area\n",
    "\n",
    "**Demographics**\n",
    "\n",
    "Persons Obtaining Legal Permanent Resident Status\n",
    "\n",
    "**Economy**\n",
    "\n",
    "Total Federal Government Expenditure\n",
    "\n",
    "Number of Farms\n",
    "\n",
    "**Labor**\n",
    "\n",
    "Total Employment\n",
    "\n",
    "Extended Mass Layoffs\n",
    "\n",
    "Separations\n",
    "\n",
    "Average Compensation per Job\n",
    "\n",
    "**Income and Welfare**\n",
    "\n",
    "Drop in Welfare Rolls\n",
    "\n",
    "Personal Income\n",
    "\n",
    "Per Capita Personal Income\n",
    "\n",
    "Disposable Personal Income\n",
    "\n",
    "Per Capita Disposable Personal Income\n",
    "\n",
    "People in Poverty\n",
    "\n",
    "**Crime**\n",
    "\n",
    "Violent Crime"
   ]
  },
  {
   "cell_type": "markdown",
   "metadata": {},
   "source": [
    "### Data description"
   ]
  },
  {
   "cell_type": "code",
   "execution_count": 205,
   "metadata": {
    "collapsed": false,
    "scrolled": false
   },
   "outputs": [
    {
     "data": {
      "text/html": [
       "<div>\n",
       "<table border=\"1\" class=\"dataframe\">\n",
       "  <thead>\n",
       "    <tr style=\"text-align: right;\">\n",
       "      <th></th>\n",
       "      <th>Indicator</th>\n",
       "      <th>Indicator Name</th>\n",
       "      <th>Indicator - Note</th>\n",
       "      <th>Indicator - Source</th>\n",
       "      <th>Indicator - unit</th>\n",
       "    </tr>\n",
       "  </thead>\n",
       "  <tbody>\n",
       "    <tr>\n",
       "      <th>0</th>\n",
       "      <td>AAC</td>\n",
       "      <td>Persons Obtaining Legal Permanent Resident Status</td>\n",
       "      <td>Legal permanent residents (LPRs) are persons who have been granted lawful permanent residence in the United States. They are also known as “green card” recipients</td>\n",
       "      <td>U. S. Department of Homeland Security</td>\n",
       "      <td>Number of persons</td>\n",
       "    </tr>\n",
       "    <tr>\n",
       "      <th>1</th>\n",
       "      <td>AAD</td>\n",
       "      <td>Total Federal Government Expenditure</td>\n",
       "      <td>Include federal expenditures or obligation for the grants, salaries and wages, procurement contracts, direct payments for individuals, including retirement and disability and other direct payments. Total expenditure does not include data on contingent liabilities (loans and insurance)</td>\n",
       "      <td>U. S. Census Bureau, Consolidated Federal Funds Report (CFFR)</td>\n",
       "      <td>Millions of dollars</td>\n",
       "    </tr>\n",
       "    <tr>\n",
       "      <th>2</th>\n",
       "      <td>AAE</td>\n",
       "      <td>Number of Farms</td>\n",
       "      <td>A farm is any establishment from which $1,000 or more of agricultural products were sold or would normally be sold during the year. Number of farms and land in farms were revised for 2007 at the U.S. and State level based on the Census of Agriculture</td>\n",
       "      <td>United States Department of Agruculture (USDA)</td>\n",
       "      <td>Number</td>\n",
       "    </tr>\n",
       "    <tr>\n",
       "      <th>3</th>\n",
       "      <td>AAF</td>\n",
       "      <td>Total Employment</td>\n",
       "      <td>The BEA employment series for states and local areas comprises estimates of the number of jobs, full-time plus part-time, by place of work. Full-time and part-time jobs are counted at equal weight. Employees, sole proprietors, and active partners are included, but unpaid family workers and volunteers are not included.</td>\n",
       "      <td>U. S. Bureau of Economic Analysis (BEA)</td>\n",
       "      <td>Thousands of Jobs</td>\n",
       "    </tr>\n",
       "    <tr>\n",
       "      <th>4</th>\n",
       "      <td>AAH</td>\n",
       "      <td>Extended Mass Layoff Events</td>\n",
       "      <td>Total private nonfarm. Extended mass layoff is an event where 50 or more workers filed initial claims for unemployment insurance benefits from a private nonfarm employer during a consecutive 5-week period, with at least 50 workers separated for more than 30 days. In States with trigger levels of fewer than 50 initial claimants, employers must confirm that 50 or more people were laid off for more than 30 days in order for events to be classified as extended mass layoffs.</td>\n",
       "      <td>U. S. Bureau of Labor Statistics (BLS)</td>\n",
       "      <td>Number of Events</td>\n",
       "    </tr>\n",
       "    <tr>\n",
       "      <th>5</th>\n",
       "      <td>AAI</td>\n",
       "      <td>Separations</td>\n",
       "      <td>Separations indicate the number of employees laid off in the extended mass layoff events. Total private nonfarm.</td>\n",
       "      <td>U. S. Bureau of Labor Statistics (BLS)</td>\n",
       "      <td>Number</td>\n",
       "    </tr>\n",
       "    <tr>\n",
       "      <th>6</th>\n",
       "      <td>AAQ</td>\n",
       "      <td>Average Compensation per Job</td>\n",
       "      <td>Average compensation per job is compensation of employees divided by total full-time and part-time wage and salary employment</td>\n",
       "      <td>U. S. Bureau of Economic Analysis (BEA)</td>\n",
       "      <td>dollars</td>\n",
       "    </tr>\n",
       "    <tr>\n",
       "      <th>7</th>\n",
       "      <td>AAG</td>\n",
       "      <td>Drop in Welfare Rolls</td>\n",
       "      <td>NaN</td>\n",
       "      <td>NaN</td>\n",
       "      <td>Number of families on welfare</td>\n",
       "    </tr>\n",
       "    <tr>\n",
       "      <th>8</th>\n",
       "      <td>AAK</td>\n",
       "      <td>Personal Income</td>\n",
       "      <td>The personal income of an area is defined as the income that is received by, or on behalf of, all the individuals who live in the area; therefore, the estimates of personal income are presented by the place of residence of the income recipients. Personal income consists of the income that is received by persons from participation in production, from government and business transfer payments, and from government interest (which is treated like a transfer payment). It is calculated as the sum of wage and salary disbursements, other labor income, proprietors' income with inventory valuation and capital consumption adjustments, rental income of persons with capital consumption adjustment, personal dividend income, personal interest income, and transfer payments to persons, less personal contributions for social insurance.</td>\n",
       "      <td>U. S. Bureau of Economic Analysis (BEA)</td>\n",
       "      <td>Millions of dollars</td>\n",
       "    </tr>\n",
       "    <tr>\n",
       "      <th>9</th>\n",
       "      <td>AAL</td>\n",
       "      <td>Per Capita Personal Income</td>\n",
       "      <td>Calculated as the total personal income of the residents of an area divided by the population of the area. Per capita personal income is often used as an indicator of consumers' purchasing power and of the economic well-being of the residents of an area.</td>\n",
       "      <td>U. S. Bureau of Economic Analysis (BEA)</td>\n",
       "      <td>dollars</td>\n",
       "    </tr>\n",
       "    <tr>\n",
       "      <th>10</th>\n",
       "      <td>AAM</td>\n",
       "      <td>Disposable Personal Income</td>\n",
       "      <td>Disposable personal income is total personal income minus personal current taxes. Personal current taxes is tax payments (net of refunds) that are made by persons and that are not chargeable to business expense and certain other payments by persons to government agencies (except government enterprises) that are treated like taxes. Personal current taxes includes taxes on income, including realized net capital gains, and on personal property. Also included in personal current taxes are personal licenses. Contributions for government social insurance are not included.</td>\n",
       "      <td>U. S. Bureau of Economic Analysis (BEA)</td>\n",
       "      <td>Millions of dollars</td>\n",
       "    </tr>\n",
       "    <tr>\n",
       "      <th>11</th>\n",
       "      <td>AAN</td>\n",
       "      <td>Per Capita Disposable Personal Income</td>\n",
       "      <td>Disposable personal income is total personal income minus personal current taxes. This measure of income is calculated as the disposable personal income of the residents of a given area divided by the resident population of the area. In computing disposable per capita personal income, BEA uses the Census Bureau's annual midyear population estimates.</td>\n",
       "      <td>U. S. Bureau of Economic Analysis (BEA)</td>\n",
       "      <td>dollars</td>\n",
       "    </tr>\n",
       "    <tr>\n",
       "      <th>12</th>\n",
       "      <td>ABA</td>\n",
       "      <td>People in Poverty</td>\n",
       "      <td>The percentage of people who are below poverty. Following the Office of Management and Budget's (OMB) Statistical Policy Directive 14, the Census Bureau uses a set of money income thresholds that vary by family size and composition to determine who is in poverty. If a family's total income is less than the family's threshold, then that family and every individual in it is considered in poverty. The official poverty thresholds do not vary geographically, but they are updated for inflation using Consumer Price Index (CPI-U). The official poverty definition uses money income before taxes and does not include capital gains or noncash benefits (such as public housing, Medicaid, and food stamps).</td>\n",
       "      <td>U. S. Census Bureau</td>\n",
       "      <td>Percent</td>\n",
       "    </tr>\n",
       "    <tr>\n",
       "      <th>13</th>\n",
       "      <td>ABB</td>\n",
       "      <td>Violent Crime</td>\n",
       "      <td>The violent crime figures include the offenses of murder, rape (legacy definition), robbery, and aggravated assault</td>\n",
       "      <td>Federal Bureau of Investigation (FBI), U. S. Department of Justice</td>\n",
       "      <td>Rate per 100,000 Inhabitants</td>\n",
       "    </tr>\n",
       "    <tr>\n",
       "      <th>14</th>\n",
       "      <td>ABK</td>\n",
       "      <td>Birth Rate</td>\n",
       "      <td>Birth rates are calculated as the number of births divided by total resident population in the given year</td>\n",
       "      <td>U. S. Department of Health and Human Services, Centers for Disease Control and Prevention (CDC), National Center for Health Statistics (NCHS)</td>\n",
       "      <td>per 1000 population</td>\n",
       "    </tr>\n",
       "    <tr>\n",
       "      <th>15</th>\n",
       "      <td>ABL</td>\n",
       "      <td>Fertility Rate</td>\n",
       "      <td>Fertility rates are calculated as the number of births divided by the number of females age 15 - 44 years old in the given year</td>\n",
       "      <td>U. S. Department of Health and Human Services, Centers for Disease Control and Prevention (CDC), National Center for Health Statistics (NCHS)</td>\n",
       "      <td>Per 1000 females</td>\n",
       "    </tr>\n",
       "    <tr>\n",
       "      <th>16</th>\n",
       "      <td>ABM</td>\n",
       "      <td>Cancer Incidence</td>\n",
       "      <td>Cancer case reports are counted by or summed by the cancer reported. For example, a single person with more than one primary cancer verified by a medical doctor is counted as a case report for each type of primary cancer reported. Having more than one primary cancer occurs in less than 20% of the population. The counts report the frequency of verified cancer diagnoses in the selected population and time period. Age-adjusted rates are calculated with age distribution ratios from the Year 2000 \"standard million\" population. An age-adjusted rate is a weighted average of the age-specific (crude) rates, where the weights are the proportions of persons in the corresponding age groups of a standard million population. The potential confounding effect of age is reduced when comparing age-adjusted rates computed using the same standard million population.</td>\n",
       "      <td>U. S. Department of Health and Human Services, Centers for Disease Control and Prevention (CDC), National Center for Health Statistics (NCHS)</td>\n",
       "      <td>Age-Adjusted Rate, 2000 U.S. Std. Million</td>\n",
       "    </tr>\n",
       "    <tr>\n",
       "      <th>17</th>\n",
       "      <td>ABN</td>\n",
       "      <td>Crude Death Rate</td>\n",
       "      <td>Crude Rates are expressed as the number of deaths reported each calendar year per 100,000 population. Crude rates are helpful in determining the need for services for a given population, relative to another population, regardless of size. Crude rates are influenced by the underlying age distribution of the state's population. Even if two states have the same age-adjusted rates, the state with the relatively older population (as demonstrated by having a higher median age) will have higher crude rates because incidence or death rates for most cancers increase with increasing age.</td>\n",
       "      <td>U. S. Department of Health and Human Services, Centers for Disease Control and Prevention (CDC), National Center for Health Statistics (NCHS)</td>\n",
       "      <td>Rate per 100000 Population</td>\n",
       "    </tr>\n",
       "    <tr>\n",
       "      <th>18</th>\n",
       "      <td>ABO</td>\n",
       "      <td>Infant Mortality Rate (&lt; 1 year)</td>\n",
       "      <td>The population figures used in the calculation of death rates for the age group 'under 1 year' are the estimates of the resident population that is under one year of age, not the number of live births</td>\n",
       "      <td>U. S. Department of Health and Human Services, Centers for Disease Control and Prevention (CDC), National Center for Health Statistics (NCHS)</td>\n",
       "      <td>Rate per 100000 Population</td>\n",
       "    </tr>\n",
       "    <tr>\n",
       "      <th>19</th>\n",
       "      <td>ABP</td>\n",
       "      <td>Child Mortality Rate (1-4 years)</td>\n",
       "      <td>NaN</td>\n",
       "      <td>U. S. Department of Health and Human Services, Centers for Disease Control and Prevention (CDC), National Center for Health Statistics (NCHS)</td>\n",
       "      <td>Rate per 100000 Population</td>\n",
       "    </tr>\n",
       "    <tr>\n",
       "      <th>20</th>\n",
       "      <td>ABQ</td>\n",
       "      <td>Chlamydia Incidence</td>\n",
       "      <td>The rate is calculated as the disease incidence count reported, divided by the population, and then the result is multiplied by 100,000. The data are based on case reports of sexually transmitted diseases submitted by state and local health departments to CDC's Division of STD/HIV Prevention</td>\n",
       "      <td>U. S. Department of Health and Human Services, Centers for Disease Control and Prevention (CDC), National Center for Health Statistics (NCHS)</td>\n",
       "      <td>Rate per 100000 Population</td>\n",
       "    </tr>\n",
       "    <tr>\n",
       "      <th>21</th>\n",
       "      <td>ABR</td>\n",
       "      <td>Gonorrhea Incidence</td>\n",
       "      <td>The rate is calculated as the disease incidence count reported, divided by the population, and then the result is multiplied by 100,000. The data are based on case reports of sexually transmitted diseases submitted by state and local health departments to CDC's Division of STD/HIV Prevention</td>\n",
       "      <td>U. S. Department of Health and Human Services, Centers for Disease Control and Prevention (CDC), National Center for Health Statistics (NCHS)</td>\n",
       "      <td>Rate per 100000 Population</td>\n",
       "    </tr>\n",
       "    <tr>\n",
       "      <th>22</th>\n",
       "      <td>ABS</td>\n",
       "      <td>Primary and Secondary Syphilis Incidence</td>\n",
       "      <td>The rate is calculated as the disease incidence count reported, divided by the population, and then the result is multiplied by 100,000. The data are based on case reports of sexually transmitted diseases submitted by state and local health departments to CDC's Division of STD/HIV Prevention</td>\n",
       "      <td>U. S. Department of Health and Human Services, Centers for Disease Control and Prevention (CDC), National Center for Health Statistics (NCHS)</td>\n",
       "      <td>Rate per 100000 Population</td>\n",
       "    </tr>\n",
       "    <tr>\n",
       "      <th>23</th>\n",
       "      <td>ABT</td>\n",
       "      <td>18- to 24-Year-Olds Who Were High School Completers</td>\n",
       "      <td>High school completers include diploma recipients and those completing high school through alternative credentials, such as a GED.</td>\n",
       "      <td>U.S. Department of Education, Institute of Education Sciences, National Center for Education Statistics</td>\n",
       "      <td>Percent</td>\n",
       "    </tr>\n",
       "    <tr>\n",
       "      <th>24</th>\n",
       "      <td>ABU</td>\n",
       "      <td>Population 25 Years Old and Over Who Have Bachelor's or Higher Degree</td>\n",
       "      <td>NaN</td>\n",
       "      <td>U.S. Department of Education, Institute of Education Sciences, National Center for Education Statistics</td>\n",
       "      <td>Percent</td>\n",
       "    </tr>\n",
       "    <tr>\n",
       "      <th>25</th>\n",
       "      <td>ABV</td>\n",
       "      <td>Enrollment in Public Elementary and Secondary Schools</td>\n",
       "      <td>Actual Data: 1990 - 2013, Projection Data:2014-2025</td>\n",
       "      <td>U.S. Department of Education, Institute of Education Sciences, National Center for Education Statistics</td>\n",
       "      <td>Number</td>\n",
       "    </tr>\n",
       "    <tr>\n",
       "      <th>26</th>\n",
       "      <td>ABW</td>\n",
       "      <td>Average Daily Attendance in Public Elementary and Secondary Schools</td>\n",
       "      <td>NaN</td>\n",
       "      <td>U.S. Department of Education, Institute of Education Sciences, National Center for Education Statistics</td>\n",
       "      <td>Number</td>\n",
       "    </tr>\n",
       "    <tr>\n",
       "      <th>27</th>\n",
       "      <td>ABX</td>\n",
       "      <td>Public Elementary and Secondary Teachers</td>\n",
       "      <td>Teachers reported in full-time equivalents (FTE)</td>\n",
       "      <td>U.S. Department of Education, Institute of Education Sciences, National Center for Education Statistics</td>\n",
       "      <td>Number</td>\n",
       "    </tr>\n",
       "    <tr>\n",
       "      <th>28</th>\n",
       "      <td>ABY</td>\n",
       "      <td>Pupil/Teacher Ratios in Public Elementary and Secondary Schools</td>\n",
       "      <td>Teachers reported in full-time equivalents (FTE). The pupil/teacher ratio includes teachers for students with disabilities and other special teachers, while these teachers are generally excluded from class size calculations. Ratios reflect totals reported by states and differ from totals reported for schools or school districts.</td>\n",
       "      <td>U.S. Department of Education, Institute of Education Sciences, National Center for Education Statistics</td>\n",
       "      <td>Rate</td>\n",
       "    </tr>\n",
       "    <tr>\n",
       "      <th>29</th>\n",
       "      <td>ABZ</td>\n",
       "      <td>Public High School Graduates</td>\n",
       "      <td>Actual Data: 1990 - 2013, Projection Data:2014-2026</td>\n",
       "      <td>U.S. Department of Education, Institute of Education Sciences, National Center for Education Statistics</td>\n",
       "      <td>Number</td>\n",
       "    </tr>\n",
       "    <tr>\n",
       "      <th>30</th>\n",
       "      <td>ACA</td>\n",
       "      <td>Current Expenditure per Pupil in Average Daily Attendance in Public Elementary and Secondary Schools</td>\n",
       "      <td>NaN</td>\n",
       "      <td>U.S. Department of Education, Institute of Education Sciences, National Center for Education Statistics</td>\n",
       "      <td>dollars</td>\n",
       "    </tr>\n",
       "    <tr>\n",
       "      <th>31</th>\n",
       "      <td>ACB</td>\n",
       "      <td>Crops Production</td>\n",
       "      <td>Excluding horticulture. State value of production is computed by multiplying each State price (marketing year average) by its production. Value of production for theUnited States is the sum of State values for all States listed for the crop. Value of production estimates relate to the crop year. These estimates should not be confused with cash receipts which relate to sales during a calendar year irrespective of the year of production.</td>\n",
       "      <td>U. S. Department of Agriculture</td>\n",
       "      <td>Thousands of Dollars</td>\n",
       "    </tr>\n",
       "    <tr>\n",
       "      <th>32</th>\n",
       "      <td>ACD</td>\n",
       "      <td>Land Area</td>\n",
       "      <td>Total land area including non-agricultural</td>\n",
       "      <td>U. S. Department of Agriculture</td>\n",
       "      <td>Acres</td>\n",
       "    </tr>\n",
       "  </tbody>\n",
       "</table>\n",
       "</div>"
      ],
      "text/plain": [
       "   Indicator  \\\n",
       "0        AAC   \n",
       "1        AAD   \n",
       "2        AAE   \n",
       "3        AAF   \n",
       "4        AAH   \n",
       "5        AAI   \n",
       "6        AAQ   \n",
       "7        AAG   \n",
       "8        AAK   \n",
       "9        AAL   \n",
       "10       AAM   \n",
       "11       AAN   \n",
       "12       ABA   \n",
       "13       ABB   \n",
       "14       ABK   \n",
       "15       ABL   \n",
       "16       ABM   \n",
       "17       ABN   \n",
       "18       ABO   \n",
       "19       ABP   \n",
       "20       ABQ   \n",
       "21       ABR   \n",
       "22       ABS   \n",
       "23       ABT   \n",
       "24       ABU   \n",
       "25       ABV   \n",
       "26       ABW   \n",
       "27       ABX   \n",
       "28       ABY   \n",
       "29       ABZ   \n",
       "30       ACA   \n",
       "31       ACB   \n",
       "32       ACD   \n",
       "\n",
       "                                                                                          Indicator Name  \\\n",
       "0                                                      Persons Obtaining Legal Permanent Resident Status   \n",
       "1                                                                   Total Federal Government Expenditure   \n",
       "2                                                                                        Number of Farms   \n",
       "3                                                                                       Total Employment   \n",
       "4                                                                            Extended Mass Layoff Events   \n",
       "5                                                                                            Separations   \n",
       "6                                                                           Average Compensation per Job   \n",
       "7                                                                                  Drop in Welfare Rolls   \n",
       "8                                                                                        Personal Income   \n",
       "9                                                                             Per Capita Personal Income   \n",
       "10                                                                            Disposable Personal Income   \n",
       "11                                                                 Per Capita Disposable Personal Income   \n",
       "12                                                                                     People in Poverty   \n",
       "13                                                                                         Violent Crime   \n",
       "14                                                                                            Birth Rate   \n",
       "15                                                                                        Fertility Rate   \n",
       "16                                                                                      Cancer Incidence   \n",
       "17                                                                                      Crude Death Rate   \n",
       "18                                                                      Infant Mortality Rate (< 1 year)   \n",
       "19                                                                      Child Mortality Rate (1-4 years)   \n",
       "20                                                                                   Chlamydia Incidence   \n",
       "21                                                                                   Gonorrhea Incidence   \n",
       "22                                                              Primary and Secondary Syphilis Incidence   \n",
       "23                                                   18- to 24-Year-Olds Who Were High School Completers   \n",
       "24                                 Population 25 Years Old and Over Who Have Bachelor's or Higher Degree   \n",
       "25                                                 Enrollment in Public Elementary and Secondary Schools   \n",
       "26                                   Average Daily Attendance in Public Elementary and Secondary Schools   \n",
       "27                                                              Public Elementary and Secondary Teachers   \n",
       "28                                       Pupil/Teacher Ratios in Public Elementary and Secondary Schools   \n",
       "29                                                                          Public High School Graduates   \n",
       "30  Current Expenditure per Pupil in Average Daily Attendance in Public Elementary and Secondary Schools   \n",
       "31                                                                                      Crops Production   \n",
       "32                                                                                             Land Area   \n",
       "\n",
       "                                                                                                                                                                                                                                                                                                                                                                                                                                                                                                                                                                                                                                                                                                                                                                                                                                                                              Indicator - Note  \\\n",
       "0                                                                                                                                                                                                                                                                                                                                                                                                                                                                                                                                                                                                                                                                                                                           Legal permanent residents (LPRs) are persons who have been granted lawful permanent residence in the United States. They are also known as “green card” recipients   \n",
       "1                                                                                                                                                                                                                                                                                                                                                                                                                                                                                                                                                                                                Include federal expenditures or obligation for the grants, salaries and wages, procurement contracts, direct payments for individuals, including retirement and disability and other direct payments. Total expenditure does not include data on contingent liabilities (loans and insurance)   \n",
       "2                                                                                                                                                                                                                                                                                                                                                                                                                                                                                                                                                                                                                                   A farm is any establishment from which $1,000 or more of agricultural products were sold or would normally be sold during the year. Number of farms and land in farms were revised for 2007 at the U.S. and State level based on the Census of Agriculture   \n",
       "3                                                                                                                                                                                                                                                                                                                                                                                                                                                                                                                                                              The BEA employment series for states and local areas comprises estimates of the number of jobs, full-time plus part-time, by place of work. Full-time and part-time jobs are counted at equal weight. Employees, sole proprietors, and active partners are included, but unpaid family workers and volunteers are not included.   \n",
       "4                                                                                                                                                                                                                                                                                                                                                                                                   Total private nonfarm. Extended mass layoff is an event where 50 or more workers filed initial claims for unemployment insurance benefits from a private nonfarm employer during a consecutive 5-week period, with at least 50 workers separated for more than 30 days. In States with trigger levels of fewer than 50 initial claimants, employers must confirm that 50 or more people were laid off for more than 30 days in order for events to be classified as extended mass layoffs.   \n",
       "5                                                                                                                                                                                                                                                                                                                                                                                                                                                                                                                                                                                                                                                                                                                                                                             Separations indicate the number of employees laid off in the extended mass layoff events. Total private nonfarm.   \n",
       "6                                                                                                                                                                                                                                                                                                                                                                                                                                                                                                                                                                                                                                                                                                                                                                Average compensation per job is compensation of employees divided by total full-time and part-time wage and salary employment   \n",
       "7                                                                                                                                                                                                                                                                                                                                                                                                                                                                                                                                                                                                                                                                                                                                                                                                                                                                                          NaN   \n",
       "8                                The personal income of an area is defined as the income that is received by, or on behalf of, all the individuals who live in the area; therefore, the estimates of personal income are presented by the place of residence of the income recipients. Personal income consists of the income that is received by persons from participation in production, from government and business transfer payments, and from government interest (which is treated like a transfer payment). It is calculated as the sum of wage and salary disbursements, other labor income, proprietors' income with inventory valuation and capital consumption adjustments, rental income of persons with capital consumption adjustment, personal dividend income, personal interest income, and transfer payments to persons, less personal contributions for social insurance.   \n",
       "9                                                                                                                                                                                                                                                                                                                                                                                                                                                                                                                                                                                                                               Calculated as the total personal income of the residents of an area divided by the population of the area. Per capita personal income is often used as an indicator of consumers' purchasing power and of the economic well-being of the residents of an area.   \n",
       "10                                                                                                                                                                                                                                                                                                Disposable personal income is total personal income minus personal current taxes. Personal current taxes is tax payments (net of refunds) that are made by persons and that are not chargeable to business expense and certain other payments by persons to government agencies (except government enterprises) that are treated like taxes. Personal current taxes includes taxes on income, including realized net capital gains, and on personal property. Also included in personal current taxes are personal licenses. Contributions for government social insurance are not included.   \n",
       "11                                                                                                                                                                                                                                                                                                                                                                                                                                                                                                                             Disposable personal income is total personal income minus personal current taxes. This measure of income is calculated as the disposable personal income of the residents of a given area divided by the resident population of the area. In computing disposable per capita personal income, BEA uses the Census Bureau's annual midyear population estimates.   \n",
       "12                                                                                                                                                                 The percentage of people who are below poverty. Following the Office of Management and Budget's (OMB) Statistical Policy Directive 14, the Census Bureau uses a set of money income thresholds that vary by family size and composition to determine who is in poverty. If a family's total income is less than the family's threshold, then that family and every individual in it is considered in poverty. The official poverty thresholds do not vary geographically, but they are updated for inflation using Consumer Price Index (CPI-U). The official poverty definition uses money income before taxes and does not include capital gains or noncash benefits (such as public housing, Medicaid, and food stamps).   \n",
       "13                                                                                                                                                                                                                                                                                                                                                                                                                                                                                                                                                                                                                                                                                                                                                                         The violent crime figures include the offenses of murder, rape (legacy definition), robbery, and aggravated assault   \n",
       "14                                                                                                                                                                                                                                                                                                                                                                                                                                                                                                                                                                                                                                                                                                                                                                                   Birth rates are calculated as the number of births divided by total resident population in the given year   \n",
       "15                                                                                                                                                                                                                                                                                                                                                                                                                                                                                                                                                                                                                                                                                                                                                             Fertility rates are calculated as the number of births divided by the number of females age 15 - 44 years old in the given year   \n",
       "16  Cancer case reports are counted by or summed by the cancer reported. For example, a single person with more than one primary cancer verified by a medical doctor is counted as a case report for each type of primary cancer reported. Having more than one primary cancer occurs in less than 20% of the population. The counts report the frequency of verified cancer diagnoses in the selected population and time period. Age-adjusted rates are calculated with age distribution ratios from the Year 2000 \"standard million\" population. An age-adjusted rate is a weighted average of the age-specific (crude) rates, where the weights are the proportions of persons in the corresponding age groups of a standard million population. The potential confounding effect of age is reduced when comparing age-adjusted rates computed using the same standard million population.   \n",
       "17                                                                                                                                                                                                                                                                                    Crude Rates are expressed as the number of deaths reported each calendar year per 100,000 population. Crude rates are helpful in determining the need for services for a given population, relative to another population, regardless of size. Crude rates are influenced by the underlying age distribution of the state's population. Even if two states have the same age-adjusted rates, the state with the relatively older population (as demonstrated by having a higher median age) will have higher crude rates because incidence or death rates for most cancers increase with increasing age.   \n",
       "18                                                                                                                                                                                                                                                                                                                                                                                                                                                                                                                                                                                                                                                                                    The population figures used in the calculation of death rates for the age group 'under 1 year' are the estimates of the resident population that is under one year of age, not the number of live births   \n",
       "19                                                                                                                                                                                                                                                                                                                                                                                                                                                                                                                                                                                                                                                                                                                                                                                                                                                                                         NaN   \n",
       "20                                                                                                                                                                                                                                                                                                                                                                                                                                                                                                                                                                                        The rate is calculated as the disease incidence count reported, divided by the population, and then the result is multiplied by 100,000. The data are based on case reports of sexually transmitted diseases submitted by state and local health departments to CDC's Division of STD/HIV Prevention   \n",
       "21                                                                                                                                                                                                                                                                                                                                                                                                                                                                                                                                                                                        The rate is calculated as the disease incidence count reported, divided by the population, and then the result is multiplied by 100,000. The data are based on case reports of sexually transmitted diseases submitted by state and local health departments to CDC's Division of STD/HIV Prevention   \n",
       "22                                                                                                                                                                                                                                                                                                                                                                                                                                                                                                                                                                                        The rate is calculated as the disease incidence count reported, divided by the population, and then the result is multiplied by 100,000. The data are based on case reports of sexually transmitted diseases submitted by state and local health departments to CDC's Division of STD/HIV Prevention   \n",
       "23                                                                                                                                                                                                                                                                                                                                                                                                                                                                                                                                                                                                                                                                                                                                                          High school completers include diploma recipients and those completing high school through alternative credentials, such as a GED.   \n",
       "24                                                                                                                                                                                                                                                                                                                                                                                                                                                                                                                                                                                                                                                                                                                                                                                                                                                                                         NaN   \n",
       "25                                                                                                                                                                                                                                                                                                                                                                                                                                                                                                                                                                                                                                                                                                                                                                                                                                         Actual Data: 1990 - 2013, Projection Data:2014-2025   \n",
       "26                                                                                                                                                                                                                                                                                                                                                                                                                                                                                                                                                                                                                                                                                                                                                                                                                                                                                         NaN   \n",
       "27                                                                                                                                                                                                                                                                                                                                                                                                                                                                                                                                                                                                                                                                                                                                                                                                                                            Teachers reported in full-time equivalents (FTE)   \n",
       "28                                                                                                                                                                                                                                                                                                                                                                                                                                                                                                                                                  Teachers reported in full-time equivalents (FTE). The pupil/teacher ratio includes teachers for students with disabilities and other special teachers, while these teachers are generally excluded from class size calculations. Ratios reflect totals reported by states and differ from totals reported for schools or school districts.   \n",
       "29                                                                                                                                                                                                                                                                                                                                                                                                                                                                                                                                                                                                                                                                                                                                                                                                                                         Actual Data: 1990 - 2013, Projection Data:2014-2026   \n",
       "30                                                                                                                                                                                                                                                                                                                                                                                                                                                                                                                                                                                                                                                                                                                                                                                                                                                                                         NaN   \n",
       "31                                                                                                                                                                                                                                                                                                                                                                                                                                     Excluding horticulture. State value of production is computed by multiplying each State price (marketing year average) by its production. Value of production for theUnited States is the sum of State values for all States listed for the crop. Value of production estimates relate to the crop year. These estimates should not be confused with cash receipts which relate to sales during a calendar year irrespective of the year of production.   \n",
       "32                                                                                                                                                                                                                                                                                                                                                                                                                                                                                                                                                                                                                                                                                                                                                                                                                                                  Total land area including non-agricultural   \n",
       "\n",
       "                                                                                                                               Indicator - Source  \\\n",
       "0                                                                                                           U. S. Department of Homeland Security   \n",
       "1                                                                                   U. S. Census Bureau, Consolidated Federal Funds Report (CFFR)   \n",
       "2                                                                                                  United States Department of Agruculture (USDA)   \n",
       "3                                                                                                         U. S. Bureau of Economic Analysis (BEA)   \n",
       "4                                                                                                          U. S. Bureau of Labor Statistics (BLS)   \n",
       "5                                                                                                          U. S. Bureau of Labor Statistics (BLS)   \n",
       "6                                                                                                         U. S. Bureau of Economic Analysis (BEA)   \n",
       "7                                                                                                                                             NaN   \n",
       "8                                                                                                         U. S. Bureau of Economic Analysis (BEA)   \n",
       "9                                                                                                         U. S. Bureau of Economic Analysis (BEA)   \n",
       "10                                                                                                        U. S. Bureau of Economic Analysis (BEA)   \n",
       "11                                                                                                        U. S. Bureau of Economic Analysis (BEA)   \n",
       "12                                                                                                                            U. S. Census Bureau   \n",
       "13                                                                             Federal Bureau of Investigation (FBI), U. S. Department of Justice   \n",
       "14  U. S. Department of Health and Human Services, Centers for Disease Control and Prevention (CDC), National Center for Health Statistics (NCHS)   \n",
       "15  U. S. Department of Health and Human Services, Centers for Disease Control and Prevention (CDC), National Center for Health Statistics (NCHS)   \n",
       "16  U. S. Department of Health and Human Services, Centers for Disease Control and Prevention (CDC), National Center for Health Statistics (NCHS)   \n",
       "17  U. S. Department of Health and Human Services, Centers for Disease Control and Prevention (CDC), National Center for Health Statistics (NCHS)   \n",
       "18  U. S. Department of Health and Human Services, Centers for Disease Control and Prevention (CDC), National Center for Health Statistics (NCHS)   \n",
       "19  U. S. Department of Health and Human Services, Centers for Disease Control and Prevention (CDC), National Center for Health Statistics (NCHS)   \n",
       "20  U. S. Department of Health and Human Services, Centers for Disease Control and Prevention (CDC), National Center for Health Statistics (NCHS)   \n",
       "21  U. S. Department of Health and Human Services, Centers for Disease Control and Prevention (CDC), National Center for Health Statistics (NCHS)   \n",
       "22  U. S. Department of Health and Human Services, Centers for Disease Control and Prevention (CDC), National Center for Health Statistics (NCHS)   \n",
       "23                                        U.S. Department of Education, Institute of Education Sciences, National Center for Education Statistics   \n",
       "24                                        U.S. Department of Education, Institute of Education Sciences, National Center for Education Statistics   \n",
       "25                                        U.S. Department of Education, Institute of Education Sciences, National Center for Education Statistics   \n",
       "26                                        U.S. Department of Education, Institute of Education Sciences, National Center for Education Statistics   \n",
       "27                                        U.S. Department of Education, Institute of Education Sciences, National Center for Education Statistics   \n",
       "28                                        U.S. Department of Education, Institute of Education Sciences, National Center for Education Statistics   \n",
       "29                                        U.S. Department of Education, Institute of Education Sciences, National Center for Education Statistics   \n",
       "30                                        U.S. Department of Education, Institute of Education Sciences, National Center for Education Statistics   \n",
       "31                                                                                                                U. S. Department of Agriculture   \n",
       "32                                                                                                                U. S. Department of Agriculture   \n",
       "\n",
       "                             Indicator - unit  \n",
       "0                           Number of persons  \n",
       "1                         Millions of dollars  \n",
       "2                                      Number  \n",
       "3                           Thousands of Jobs  \n",
       "4                            Number of Events  \n",
       "5                                      Number  \n",
       "6                                     dollars  \n",
       "7               Number of families on welfare  \n",
       "8                         Millions of dollars  \n",
       "9                                     dollars  \n",
       "10                        Millions of dollars  \n",
       "11                                    dollars  \n",
       "12                                    Percent  \n",
       "13               Rate per 100,000 Inhabitants  \n",
       "14                        per 1000 population  \n",
       "15                           Per 1000 females  \n",
       "16  Age-Adjusted Rate, 2000 U.S. Std. Million  \n",
       "17                 Rate per 100000 Population  \n",
       "18                 Rate per 100000 Population  \n",
       "19                 Rate per 100000 Population  \n",
       "20                 Rate per 100000 Population  \n",
       "21                 Rate per 100000 Population  \n",
       "22                 Rate per 100000 Population  \n",
       "23                                    Percent  \n",
       "24                                    Percent  \n",
       "25                                     Number  \n",
       "26                                     Number  \n",
       "27                                     Number  \n",
       "28                                       Rate  \n",
       "29                                     Number  \n",
       "30                                    dollars  \n",
       "31                       Thousands of Dollars  \n",
       "32                                      Acres  "
      ]
     },
     "execution_count": 205,
     "metadata": {},
     "output_type": "execute_result"
    }
   ],
   "source": [
    "pd.set_option('display.max_colwidth',1000) # So it will print all the info in the dataframe\n",
    "pd.read_csv('usa_descriptions.csv')"
   ]
  },
  {
   "cell_type": "markdown",
   "metadata": {},
   "source": [
    "### Some useful imports"
   ]
  },
  {
   "cell_type": "markdown",
   "metadata": {},
   "source": [
    "Pandas for manipulating the data efficiently, matplotlib for visualization, numpy for some numeric methods. The `%matplotlib inline` lets plots show up in a notebook. Some more interesting libraries are `seaborn` for visualization and `sklearn` for various statistical methods."
   ]
  },
  {
   "cell_type": "code",
   "execution_count": 183,
   "metadata": {
    "collapsed": true
   },
   "outputs": [],
   "source": [
    "import pandas as pd\n",
    "import matplotlib.pyplot as plt\n",
    "import numpy as np\n",
    "%matplotlib inline"
   ]
  },
  {
   "cell_type": "code",
   "execution_count": 206,
   "metadata": {
    "collapsed": true
   },
   "outputs": [],
   "source": [
    "df = pd.read_csv('usa.csv')"
   ]
  },
  {
   "cell_type": "markdown",
   "metadata": {},
   "source": [
    "`head` the data frame to show the first five rows. You can provide an argument to head(n) to change the number. As we can see, the data is organized in such a way where the state (or U.S. aggregate) is a value under `Region Name` and you can then further index by a specific indicator or indicator name. The values for various years are columns in the row. "
   ]
  },
  {
   "cell_type": "code",
   "execution_count": 207,
   "metadata": {
    "collapsed": false
   },
   "outputs": [
    {
     "data": {
      "text/html": [
       "<div>\n",
       "<table border=\"1\" class=\"dataframe\">\n",
       "  <thead>\n",
       "    <tr style=\"text-align: right;\">\n",
       "      <th></th>\n",
       "      <th>Region Name</th>\n",
       "      <th>Indicator</th>\n",
       "      <th>Indicator Name</th>\n",
       "      <th>Indicator - Note</th>\n",
       "      <th>Indicator - Source</th>\n",
       "      <th>Indicator - unit</th>\n",
       "      <th>Units</th>\n",
       "      <th>1990</th>\n",
       "      <th>1991</th>\n",
       "      <th>1992</th>\n",
       "      <th>...</th>\n",
       "      <th>2007</th>\n",
       "      <th>2008</th>\n",
       "      <th>2009</th>\n",
       "      <th>2010</th>\n",
       "      <th>2011</th>\n",
       "      <th>2012</th>\n",
       "      <th>2013</th>\n",
       "      <th>2014</th>\n",
       "      <th>2015</th>\n",
       "      <th>2016</th>\n",
       "    </tr>\n",
       "  </thead>\n",
       "  <tbody>\n",
       "    <tr>\n",
       "      <th>0</th>\n",
       "      <td>United States</td>\n",
       "      <td>AAC</td>\n",
       "      <td>Persons Obtaining Legal Permanent Resident Status</td>\n",
       "      <td>Legal permanent residents (LPRs) are persons who have been granted lawful permanent residence in the United States. They are also known as “green card” recipients</td>\n",
       "      <td>U. S. Department of Homeland Security</td>\n",
       "      <td>Number of persons</td>\n",
       "      <td>Number of persons</td>\n",
       "      <td>NaN</td>\n",
       "      <td>NaN</td>\n",
       "      <td>NaN</td>\n",
       "      <td>...</td>\n",
       "      <td>1052415.0</td>\n",
       "      <td>1107126.0</td>\n",
       "      <td>1130818.0</td>\n",
       "      <td>1042625.0</td>\n",
       "      <td>1062040.0</td>\n",
       "      <td>1031631.0</td>\n",
       "      <td>990553.0</td>\n",
       "      <td>1016518.0</td>\n",
       "      <td>1051031.0</td>\n",
       "      <td>NaN</td>\n",
       "    </tr>\n",
       "    <tr>\n",
       "      <th>1</th>\n",
       "      <td>United States</td>\n",
       "      <td>AAD</td>\n",
       "      <td>Total Federal Government Expenditure</td>\n",
       "      <td>Include federal expenditures or obligation for the grants, salaries and wages, procurement contracts, direct payments for individuals, including retirement and disability and other direct payments. Total expenditure does not include data on contingent liabilities (loans and insurance)</td>\n",
       "      <td>U. S. Census Bureau, Consolidated Federal Funds Report (CFFR)</td>\n",
       "      <td>Millions of dollars</td>\n",
       "      <td>Millions of dollars</td>\n",
       "      <td>NaN</td>\n",
       "      <td>NaN</td>\n",
       "      <td>NaN</td>\n",
       "      <td>...</td>\n",
       "      <td>2556200.0</td>\n",
       "      <td>2792600.0</td>\n",
       "      <td>3238400.0</td>\n",
       "      <td>3276400.0</td>\n",
       "      <td>NaN</td>\n",
       "      <td>NaN</td>\n",
       "      <td>NaN</td>\n",
       "      <td>NaN</td>\n",
       "      <td>NaN</td>\n",
       "      <td>NaN</td>\n",
       "    </tr>\n",
       "    <tr>\n",
       "      <th>2</th>\n",
       "      <td>United States</td>\n",
       "      <td>AAE</td>\n",
       "      <td>Number of Farms</td>\n",
       "      <td>A farm is any establishment from which $1,000 or more of agricultural products were sold or would normally be sold during the year. Number of farms and land in farms were revised for 2007 at the U.S. and State level based on the Census of Agriculture</td>\n",
       "      <td>United States Department of Agruculture (USDA)</td>\n",
       "      <td>Number</td>\n",
       "      <td>Number</td>\n",
       "      <td>NaN</td>\n",
       "      <td>NaN</td>\n",
       "      <td>NaN</td>\n",
       "      <td>...</td>\n",
       "      <td>2204950.0</td>\n",
       "      <td>2184500.0</td>\n",
       "      <td>2169660.0</td>\n",
       "      <td>2149520.0</td>\n",
       "      <td>2131240.0</td>\n",
       "      <td>2109810.0</td>\n",
       "      <td>2102010.0</td>\n",
       "      <td>2085000.0</td>\n",
       "      <td>2068000.0</td>\n",
       "      <td>2060000.0</td>\n",
       "    </tr>\n",
       "    <tr>\n",
       "      <th>3</th>\n",
       "      <td>United States</td>\n",
       "      <td>AAF</td>\n",
       "      <td>Total Employment</td>\n",
       "      <td>The BEA employment series for states and local areas comprises estimates of the number of jobs, full-time plus part-time, by place of work. Full-time and part-time jobs are counted at equal weight. Employees, sole proprietors, and active partners are included, but unpaid family workers and volunteers are not included.</td>\n",
       "      <td>U. S. Bureau of Economic Analysis (BEA)</td>\n",
       "      <td>Thousands of Jobs</td>\n",
       "      <td>Thousands of Jobs</td>\n",
       "      <td>138330900.0</td>\n",
       "      <td>137612800.0</td>\n",
       "      <td>138166100.0</td>\n",
       "      <td>...</td>\n",
       "      <td>179885700.0</td>\n",
       "      <td>179639900.0</td>\n",
       "      <td>174233700.0</td>\n",
       "      <td>173034700.0</td>\n",
       "      <td>176278700.0</td>\n",
       "      <td>179081700.0</td>\n",
       "      <td>182408100.0</td>\n",
       "      <td>186168100.0</td>\n",
       "      <td>190195400.0</td>\n",
       "      <td>NaN</td>\n",
       "    </tr>\n",
       "    <tr>\n",
       "      <th>4</th>\n",
       "      <td>United States</td>\n",
       "      <td>AAH</td>\n",
       "      <td>Extended Mass Layoff Events</td>\n",
       "      <td>Total private nonfarm. Extended mass layoff is an event where 50 or more workers filed initial claims for unemployment insurance benefits from a private nonfarm employer during a consecutive 5-week period, with at least 50 workers separated for more than 30 days. In States with trigger levels of fewer than 50 initial claimants, employers must confirm that 50 or more people were laid off for more than 30 days in order for events to be classified as extended mass layoffs.</td>\n",
       "      <td>U. S. Bureau of Labor Statistics (BLS)</td>\n",
       "      <td>Number of Events</td>\n",
       "      <td>Number of Events</td>\n",
       "      <td>NaN</td>\n",
       "      <td>NaN</td>\n",
       "      <td>NaN</td>\n",
       "      <td>...</td>\n",
       "      <td>5363.0</td>\n",
       "      <td>8259.0</td>\n",
       "      <td>11824.0</td>\n",
       "      <td>7247.0</td>\n",
       "      <td>6596.0</td>\n",
       "      <td>6500.0</td>\n",
       "      <td>NaN</td>\n",
       "      <td>NaN</td>\n",
       "      <td>NaN</td>\n",
       "      <td>NaN</td>\n",
       "    </tr>\n",
       "  </tbody>\n",
       "</table>\n",
       "<p>5 rows × 34 columns</p>\n",
       "</div>"
      ],
      "text/plain": [
       "     Region Name Indicator                                     Indicator Name  \\\n",
       "0  United States       AAC  Persons Obtaining Legal Permanent Resident Status   \n",
       "1  United States       AAD               Total Federal Government Expenditure   \n",
       "2  United States       AAE                                    Number of Farms   \n",
       "3  United States       AAF                                   Total Employment   \n",
       "4  United States       AAH                        Extended Mass Layoff Events   \n",
       "\n",
       "                                                                                                                                                                                                                                                                                                                                                                                                                                                                             Indicator - Note  \\\n",
       "0                                                                                                                                                                                                                                                                                                                          Legal permanent residents (LPRs) are persons who have been granted lawful permanent residence in the United States. They are also known as “green card” recipients   \n",
       "1                                                                                                                                                                                               Include federal expenditures or obligation for the grants, salaries and wages, procurement contracts, direct payments for individuals, including retirement and disability and other direct payments. Total expenditure does not include data on contingent liabilities (loans and insurance)   \n",
       "2                                                                                                                                                                                                                                  A farm is any establishment from which $1,000 or more of agricultural products were sold or would normally be sold during the year. Number of farms and land in farms were revised for 2007 at the U.S. and State level based on the Census of Agriculture   \n",
       "3                                                                                                                                                             The BEA employment series for states and local areas comprises estimates of the number of jobs, full-time plus part-time, by place of work. Full-time and part-time jobs are counted at equal weight. Employees, sole proprietors, and active partners are included, but unpaid family workers and volunteers are not included.   \n",
       "4  Total private nonfarm. Extended mass layoff is an event where 50 or more workers filed initial claims for unemployment insurance benefits from a private nonfarm employer during a consecutive 5-week period, with at least 50 workers separated for more than 30 days. In States with trigger levels of fewer than 50 initial claimants, employers must confirm that 50 or more people were laid off for more than 30 days in order for events to be classified as extended mass layoffs.   \n",
       "\n",
       "                                              Indicator - Source  \\\n",
       "0                          U. S. Department of Homeland Security   \n",
       "1  U. S. Census Bureau, Consolidated Federal Funds Report (CFFR)   \n",
       "2                 United States Department of Agruculture (USDA)   \n",
       "3                        U. S. Bureau of Economic Analysis (BEA)   \n",
       "4                         U. S. Bureau of Labor Statistics (BLS)   \n",
       "\n",
       "      Indicator - unit                Units         1990         1991  \\\n",
       "0    Number of persons    Number of persons          NaN          NaN   \n",
       "1  Millions of dollars  Millions of dollars          NaN          NaN   \n",
       "2               Number               Number          NaN          NaN   \n",
       "3    Thousands of Jobs    Thousands of Jobs  138330900.0  137612800.0   \n",
       "4     Number of Events     Number of Events          NaN          NaN   \n",
       "\n",
       "          1992    ...             2007         2008         2009         2010  \\\n",
       "0          NaN    ...        1052415.0    1107126.0    1130818.0    1042625.0   \n",
       "1          NaN    ...        2556200.0    2792600.0    3238400.0    3276400.0   \n",
       "2          NaN    ...        2204950.0    2184500.0    2169660.0    2149520.0   \n",
       "3  138166100.0    ...      179885700.0  179639900.0  174233700.0  173034700.0   \n",
       "4          NaN    ...           5363.0       8259.0      11824.0       7247.0   \n",
       "\n",
       "          2011         2012         2013         2014         2015       2016  \n",
       "0    1062040.0    1031631.0     990553.0    1016518.0    1051031.0        NaN  \n",
       "1          NaN          NaN          NaN          NaN          NaN        NaN  \n",
       "2    2131240.0    2109810.0    2102010.0    2085000.0    2068000.0  2060000.0  \n",
       "3  176278700.0  179081700.0  182408100.0  186168100.0  190195400.0        NaN  \n",
       "4       6596.0       6500.0          NaN          NaN          NaN        NaN  \n",
       "\n",
       "[5 rows x 34 columns]"
      ]
     },
     "execution_count": 207,
     "metadata": {},
     "output_type": "execute_result"
    }
   ],
   "source": [
    "df.head()"
   ]
  },
  {
   "cell_type": "markdown",
   "metadata": {},
   "source": [
    "Display all unique indicators"
   ]
  },
  {
   "cell_type": "code",
   "execution_count": 208,
   "metadata": {
    "collapsed": false
   },
   "outputs": [
    {
     "data": {
      "text/plain": [
       "['Birth Rate',\n",
       " \"Population 25 Years Old and Over Who Have Bachelor's or Higher Degree\",\n",
       " 'Separations',\n",
       " 'Total Federal Government Expenditure',\n",
       " 'Violent Crime',\n",
       " 'Land Area',\n",
       " 'Extended Mass Layoff Events',\n",
       " 'Drop in Welfare Rolls',\n",
       " 'Primary and Secondary Syphilis Incidence',\n",
       " 'Current Expenditure per Pupil in Average Daily Attendance in Public Elementary and Secondary Schools',\n",
       " 'Fertility Rate',\n",
       " 'Number of Farms',\n",
       " 'Pupil/Teacher Ratios in Public Elementary and Secondary Schools',\n",
       " 'Gonorrhea Incidence',\n",
       " 'Persons Obtaining Legal Permanent Resident Status',\n",
       " 'Crude Death Rate',\n",
       " 'Public Elementary and Secondary Teachers',\n",
       " 'Per Capita Disposable Personal Income',\n",
       " 'Per Capita Personal Income',\n",
       " 'Enrollment in Public Elementary and Secondary Schools',\n",
       " 'People in Poverty',\n",
       " 'Chlamydia Incidence',\n",
       " 'Public High School Graduates',\n",
       " 'Cancer Incidence',\n",
       " '18- to 24-Year-Olds Who Were High School Completers',\n",
       " 'Disposable Personal Income',\n",
       " 'Total Employment',\n",
       " 'Infant Mortality Rate (< 1 year)',\n",
       " 'Average Compensation per Job',\n",
       " 'Child Mortality Rate (1-4 years)',\n",
       " 'Crops Production',\n",
       " 'Personal Income',\n",
       " 'Average Daily Attendance in Public Elementary and Secondary Schools']"
      ]
     },
     "execution_count": 208,
     "metadata": {},
     "output_type": "execute_result"
    }
   ],
   "source": [
    "list(set(df['Indicator Name']))"
   ]
  },
  {
   "cell_type": "markdown",
   "metadata": {},
   "source": [
    "### Let's investigate average compensation per job"
   ]
  },
  {
   "cell_type": "markdown",
   "metadata": {},
   "source": [
    "The goal of this example is to visualize the change in average compensation per job for a few states."
   ]
  },
  {
   "cell_type": "code",
   "execution_count": 210,
   "metadata": {
    "collapsed": false
   },
   "outputs": [
    {
     "data": {
      "text/html": [
       "<div>\n",
       "<table border=\"1\" class=\"dataframe\">\n",
       "  <thead>\n",
       "    <tr style=\"text-align: right;\">\n",
       "      <th></th>\n",
       "      <th>Region Name</th>\n",
       "      <th>Indicator</th>\n",
       "      <th>Indicator Name</th>\n",
       "      <th>Indicator - Note</th>\n",
       "      <th>Indicator - Source</th>\n",
       "      <th>Indicator - unit</th>\n",
       "      <th>Units</th>\n",
       "      <th>1990</th>\n",
       "      <th>1991</th>\n",
       "      <th>1992</th>\n",
       "      <th>...</th>\n",
       "      <th>2007</th>\n",
       "      <th>2008</th>\n",
       "      <th>2009</th>\n",
       "      <th>2010</th>\n",
       "      <th>2011</th>\n",
       "      <th>2012</th>\n",
       "      <th>2013</th>\n",
       "      <th>2014</th>\n",
       "      <th>2015</th>\n",
       "      <th>2016</th>\n",
       "    </tr>\n",
       "  </thead>\n",
       "  <tbody>\n",
       "    <tr>\n",
       "      <th>6</th>\n",
       "      <td>United States</td>\n",
       "      <td>AAQ</td>\n",
       "      <td>Average Compensation per Job</td>\n",
       "      <td>Average compensation per job is compensation of employees divided by total full-time and part-time wage and salary employment</td>\n",
       "      <td>U. S. Bureau of Economic Analysis (BEA)</td>\n",
       "      <td>dollars</td>\n",
       "      <td>dollars</td>\n",
       "      <td>28544.0</td>\n",
       "      <td>29841.0</td>\n",
       "      <td>31633.0</td>\n",
       "      <td>...</td>\n",
       "      <td>54973.0</td>\n",
       "      <td>56429.0</td>\n",
       "      <td>56814.0</td>\n",
       "      <td>58634.0</td>\n",
       "      <td>60188.0</td>\n",
       "      <td>61509.0</td>\n",
       "      <td>62159.0</td>\n",
       "      <td>63801.0</td>\n",
       "      <td>65569.0</td>\n",
       "      <td>NaN</td>\n",
       "    </tr>\n",
       "    <tr>\n",
       "      <th>39</th>\n",
       "      <td>Alabama</td>\n",
       "      <td>AAQ</td>\n",
       "      <td>Average Compensation per Job</td>\n",
       "      <td>Average compensation per job is compensation of employees divided by total full-time and part-time wage and salary employment</td>\n",
       "      <td>U. S. Bureau of Economic Analysis (BEA)</td>\n",
       "      <td>dollars</td>\n",
       "      <td>dollars</td>\n",
       "      <td>24658.0</td>\n",
       "      <td>25786.0</td>\n",
       "      <td>27221.0</td>\n",
       "      <td>...</td>\n",
       "      <td>45498.0</td>\n",
       "      <td>47055.0</td>\n",
       "      <td>48402.0</td>\n",
       "      <td>49833.0</td>\n",
       "      <td>50917.0</td>\n",
       "      <td>51251.0</td>\n",
       "      <td>51524.0</td>\n",
       "      <td>52991.0</td>\n",
       "      <td>53958.0</td>\n",
       "      <td>NaN</td>\n",
       "    </tr>\n",
       "    <tr>\n",
       "      <th>72</th>\n",
       "      <td>Alaska</td>\n",
       "      <td>AAQ</td>\n",
       "      <td>Average Compensation per Job</td>\n",
       "      <td>Average compensation per job is compensation of employees divided by total full-time and part-time wage and salary employment</td>\n",
       "      <td>U. S. Bureau of Economic Analysis (BEA)</td>\n",
       "      <td>dollars</td>\n",
       "      <td>dollars</td>\n",
       "      <td>36137.0</td>\n",
       "      <td>37559.0</td>\n",
       "      <td>39146.0</td>\n",
       "      <td>...</td>\n",
       "      <td>59888.0</td>\n",
       "      <td>62011.0</td>\n",
       "      <td>64178.0</td>\n",
       "      <td>65918.0</td>\n",
       "      <td>68449.0</td>\n",
       "      <td>70728.0</td>\n",
       "      <td>71993.0</td>\n",
       "      <td>74440.0</td>\n",
       "      <td>76275.0</td>\n",
       "      <td>NaN</td>\n",
       "    </tr>\n",
       "    <tr>\n",
       "      <th>105</th>\n",
       "      <td>Arizona</td>\n",
       "      <td>AAQ</td>\n",
       "      <td>Average Compensation per Job</td>\n",
       "      <td>Average compensation per job is compensation of employees divided by total full-time and part-time wage and salary employment</td>\n",
       "      <td>U. S. Bureau of Economic Analysis (BEA)</td>\n",
       "      <td>dollars</td>\n",
       "      <td>dollars</td>\n",
       "      <td>25967.0</td>\n",
       "      <td>27220.0</td>\n",
       "      <td>28600.0</td>\n",
       "      <td>...</td>\n",
       "      <td>51283.0</td>\n",
       "      <td>53006.0</td>\n",
       "      <td>53543.0</td>\n",
       "      <td>54499.0</td>\n",
       "      <td>56004.0</td>\n",
       "      <td>56984.0</td>\n",
       "      <td>57426.0</td>\n",
       "      <td>58575.0</td>\n",
       "      <td>59466.0</td>\n",
       "      <td>NaN</td>\n",
       "    </tr>\n",
       "    <tr>\n",
       "      <th>138</th>\n",
       "      <td>Arkansas</td>\n",
       "      <td>AAQ</td>\n",
       "      <td>Average Compensation per Job</td>\n",
       "      <td>Average compensation per job is compensation of employees divided by total full-time and part-time wage and salary employment</td>\n",
       "      <td>U. S. Bureau of Economic Analysis (BEA)</td>\n",
       "      <td>dollars</td>\n",
       "      <td>dollars</td>\n",
       "      <td>22059.0</td>\n",
       "      <td>23153.0</td>\n",
       "      <td>24617.0</td>\n",
       "      <td>...</td>\n",
       "      <td>42465.0</td>\n",
       "      <td>43378.0</td>\n",
       "      <td>44295.0</td>\n",
       "      <td>45414.0</td>\n",
       "      <td>46515.0</td>\n",
       "      <td>48189.0</td>\n",
       "      <td>49018.0</td>\n",
       "      <td>50105.0</td>\n",
       "      <td>50865.0</td>\n",
       "      <td>NaN</td>\n",
       "    </tr>\n",
       "  </tbody>\n",
       "</table>\n",
       "<p>5 rows × 34 columns</p>\n",
       "</div>"
      ],
      "text/plain": [
       "       Region Name Indicator                Indicator Name  \\\n",
       "6    United States       AAQ  Average Compensation per Job   \n",
       "39         Alabama       AAQ  Average Compensation per Job   \n",
       "72          Alaska       AAQ  Average Compensation per Job   \n",
       "105        Arizona       AAQ  Average Compensation per Job   \n",
       "138       Arkansas       AAQ  Average Compensation per Job   \n",
       "\n",
       "                                                                                                                  Indicator - Note  \\\n",
       "6    Average compensation per job is compensation of employees divided by total full-time and part-time wage and salary employment   \n",
       "39   Average compensation per job is compensation of employees divided by total full-time and part-time wage and salary employment   \n",
       "72   Average compensation per job is compensation of employees divided by total full-time and part-time wage and salary employment   \n",
       "105  Average compensation per job is compensation of employees divided by total full-time and part-time wage and salary employment   \n",
       "138  Average compensation per job is compensation of employees divided by total full-time and part-time wage and salary employment   \n",
       "\n",
       "                          Indicator - Source Indicator - unit    Units  \\\n",
       "6    U. S. Bureau of Economic Analysis (BEA)          dollars  dollars   \n",
       "39   U. S. Bureau of Economic Analysis (BEA)          dollars  dollars   \n",
       "72   U. S. Bureau of Economic Analysis (BEA)          dollars  dollars   \n",
       "105  U. S. Bureau of Economic Analysis (BEA)          dollars  dollars   \n",
       "138  U. S. Bureau of Economic Analysis (BEA)          dollars  dollars   \n",
       "\n",
       "        1990     1991     1992  ...      2007     2008     2009     2010  \\\n",
       "6    28544.0  29841.0  31633.0  ...   54973.0  56429.0  56814.0  58634.0   \n",
       "39   24658.0  25786.0  27221.0  ...   45498.0  47055.0  48402.0  49833.0   \n",
       "72   36137.0  37559.0  39146.0  ...   59888.0  62011.0  64178.0  65918.0   \n",
       "105  25967.0  27220.0  28600.0  ...   51283.0  53006.0  53543.0  54499.0   \n",
       "138  22059.0  23153.0  24617.0  ...   42465.0  43378.0  44295.0  45414.0   \n",
       "\n",
       "        2011     2012     2013     2014     2015  2016  \n",
       "6    60188.0  61509.0  62159.0  63801.0  65569.0   NaN  \n",
       "39   50917.0  51251.0  51524.0  52991.0  53958.0   NaN  \n",
       "72   68449.0  70728.0  71993.0  74440.0  76275.0   NaN  \n",
       "105  56004.0  56984.0  57426.0  58575.0  59466.0   NaN  \n",
       "138  46515.0  48189.0  49018.0  50105.0  50865.0   NaN  \n",
       "\n",
       "[5 rows x 34 columns]"
      ]
     },
     "execution_count": 210,
     "metadata": {},
     "output_type": "execute_result"
    }
   ],
   "source": [
    "avgcomp = df[df['Indicator Name'] == 'Average Compensation per Job']\n",
    "avgcomp.head()"
   ]
  },
  {
   "cell_type": "markdown",
   "metadata": {},
   "source": [
    "Now we want to just take the columns we care about for this analysis; let's take **2006-2010**"
   ]
  },
  {
   "cell_type": "code",
   "execution_count": 212,
   "metadata": {
    "collapsed": false
   },
   "outputs": [
    {
     "data": {
      "text/html": [
       "<div>\n",
       "<table border=\"1\" class=\"dataframe\">\n",
       "  <thead>\n",
       "    <tr style=\"text-align: right;\">\n",
       "      <th></th>\n",
       "      <th>Region Name</th>\n",
       "      <th>2006</th>\n",
       "      <th>2007</th>\n",
       "      <th>2008</th>\n",
       "      <th>2009</th>\n",
       "      <th>2010</th>\n",
       "    </tr>\n",
       "  </thead>\n",
       "  <tbody>\n",
       "    <tr>\n",
       "      <th>6</th>\n",
       "      <td>United States</td>\n",
       "      <td>52789.0</td>\n",
       "      <td>54973.0</td>\n",
       "      <td>56429.0</td>\n",
       "      <td>56814.0</td>\n",
       "      <td>58634.0</td>\n",
       "    </tr>\n",
       "    <tr>\n",
       "      <th>39</th>\n",
       "      <td>Alabama</td>\n",
       "      <td>44028.0</td>\n",
       "      <td>45498.0</td>\n",
       "      <td>47055.0</td>\n",
       "      <td>48402.0</td>\n",
       "      <td>49833.0</td>\n",
       "    </tr>\n",
       "    <tr>\n",
       "      <th>72</th>\n",
       "      <td>Alaska</td>\n",
       "      <td>57149.0</td>\n",
       "      <td>59888.0</td>\n",
       "      <td>62011.0</td>\n",
       "      <td>64178.0</td>\n",
       "      <td>65918.0</td>\n",
       "    </tr>\n",
       "    <tr>\n",
       "      <th>105</th>\n",
       "      <td>Arizona</td>\n",
       "      <td>49038.0</td>\n",
       "      <td>51283.0</td>\n",
       "      <td>53006.0</td>\n",
       "      <td>53543.0</td>\n",
       "      <td>54499.0</td>\n",
       "    </tr>\n",
       "    <tr>\n",
       "      <th>138</th>\n",
       "      <td>Arkansas</td>\n",
       "      <td>40557.0</td>\n",
       "      <td>42465.0</td>\n",
       "      <td>43378.0</td>\n",
       "      <td>44295.0</td>\n",
       "      <td>45414.0</td>\n",
       "    </tr>\n",
       "  </tbody>\n",
       "</table>\n",
       "</div>"
      ],
      "text/plain": [
       "       Region Name     2006     2007     2008     2009     2010\n",
       "6    United States  52789.0  54973.0  56429.0  56814.0  58634.0\n",
       "39         Alabama  44028.0  45498.0  47055.0  48402.0  49833.0\n",
       "72          Alaska  57149.0  59888.0  62011.0  64178.0  65918.0\n",
       "105        Arizona  49038.0  51283.0  53006.0  53543.0  54499.0\n",
       "138       Arkansas  40557.0  42465.0  43378.0  44295.0  45414.0"
      ]
     },
     "execution_count": 212,
     "metadata": {},
     "output_type": "execute_result"
    }
   ],
   "source": [
    "columns = ['Region Name', '2006', '2007', '2008', '2009', '2010']\n",
    "avg_subset = avgcomp[columns]\n",
    "avg_subset.head()"
   ]
  },
  {
   "cell_type": "markdown",
   "metadata": {},
   "source": [
    "Now let's take the states we care about. Let's arbitrarily choose **Texas, California, Wyoming, and West Virginia**. "
   ]
  },
  {
   "cell_type": "code",
   "execution_count": 213,
   "metadata": {
    "collapsed": false
   },
   "outputs": [
    {
     "data": {
      "text/html": [
       "<div>\n",
       "<table border=\"1\" class=\"dataframe\">\n",
       "  <thead>\n",
       "    <tr style=\"text-align: right;\">\n",
       "      <th></th>\n",
       "      <th>Region Name</th>\n",
       "      <th>2006</th>\n",
       "      <th>2007</th>\n",
       "      <th>2008</th>\n",
       "      <th>2009</th>\n",
       "      <th>2010</th>\n",
       "    </tr>\n",
       "  </thead>\n",
       "  <tbody>\n",
       "    <tr>\n",
       "      <th>171</th>\n",
       "      <td>California</td>\n",
       "      <td>61086.0</td>\n",
       "      <td>63593.0</td>\n",
       "      <td>65090.0</td>\n",
       "      <td>65488.0</td>\n",
       "      <td>68034.0</td>\n",
       "    </tr>\n",
       "    <tr>\n",
       "      <th>1455</th>\n",
       "      <td>Texas</td>\n",
       "      <td>50967.0</td>\n",
       "      <td>53181.0</td>\n",
       "      <td>54468.0</td>\n",
       "      <td>54694.0</td>\n",
       "      <td>56616.0</td>\n",
       "    </tr>\n",
       "    <tr>\n",
       "      <th>1619</th>\n",
       "      <td>West Virginia</td>\n",
       "      <td>41806.0</td>\n",
       "      <td>42744.0</td>\n",
       "      <td>44867.0</td>\n",
       "      <td>45931.0</td>\n",
       "      <td>46872.0</td>\n",
       "    </tr>\n",
       "    <tr>\n",
       "      <th>1685</th>\n",
       "      <td>Wyoming</td>\n",
       "      <td>46854.0</td>\n",
       "      <td>50059.0</td>\n",
       "      <td>52927.0</td>\n",
       "      <td>51966.0</td>\n",
       "      <td>53810.0</td>\n",
       "    </tr>\n",
       "  </tbody>\n",
       "</table>\n",
       "</div>"
      ],
      "text/plain": [
       "        Region Name     2006     2007     2008     2009     2010\n",
       "171      California  61086.0  63593.0  65090.0  65488.0  68034.0\n",
       "1455          Texas  50967.0  53181.0  54468.0  54694.0  56616.0\n",
       "1619  West Virginia  41806.0  42744.0  44867.0  45931.0  46872.0\n",
       "1685        Wyoming  46854.0  50059.0  52927.0  51966.0  53810.0"
      ]
     },
     "execution_count": 213,
     "metadata": {},
     "output_type": "execute_result"
    }
   ],
   "source": [
    "states = ['Texas', 'California', 'Wyoming', 'West Virginia']\n",
    "avg_states = avg_subset[avg_subset['Region Name'].isin(states)]\n",
    "avg_states"
   ]
  },
  {
   "cell_type": "markdown",
   "metadata": {},
   "source": [
    "Finally, let's plot the data and see if we see anything interesting. The code below iterates over each row in the above dataframe, and plots the x values (years) over y values (avg comp)"
   ]
  },
  {
   "cell_type": "code",
   "execution_count": 214,
   "metadata": {
    "collapsed": false
   },
   "outputs": [
    {
     "data": {
      "image/png": "[encoded data removed]",
      "text/plain": [
       "<matplotlib.figure.Figure at 0x121987390>"
      ]
     },
     "metadata": {},
     "output_type": "display_data"
    }
   ],
   "source": [
    "for _idx, row in avg_states.iterrows():\n",
    "    x = [2006, 2007, 2008, 2009, 2010]\n",
    "    y = [row['2006'], row['2007'], row['2008'], row['2009'], row['2010']]\n",
    "    plt.plot(x, y, label=row['Region Name'])\n",
    "    plt.legend()\n",
    "    plt.xticks(x)"
   ]
  },
  {
   "cell_type": "markdown",
   "metadata": {},
   "source": [
    "**Let's try visualizing over more years.** In the process, we'll try and programatically plot each year instead of having to type out each year you want. Furthermore, we'll now have a way to check which years this metric is defined for. "
   ]
  },
  {
   "cell_type": "markdown",
   "metadata": {},
   "source": [
    "The below function sums up each columns null values. As we can see, this metric is defined for 1990-2015"
   ]
  },
  {
   "cell_type": "code",
   "execution_count": 216,
   "metadata": {
    "collapsed": false
   },
   "outputs": [
    {
     "data": {
      "text/plain": [
       "Region Name            0\n",
       "Indicator              0\n",
       "Indicator Name         0\n",
       "Indicator - Note       0\n",
       "Indicator - Source     0\n",
       "Indicator - unit       0\n",
       "Units                  0\n",
       "1990                   0\n",
       "1991                   0\n",
       "1992                   0\n",
       "1993                   0\n",
       "1994                   0\n",
       "1995                   0\n",
       "1996                   0\n",
       "1997                   0\n",
       "1998                   0\n",
       "1999                   0\n",
       "2000                   0\n",
       "2001                   0\n",
       "2002                   0\n",
       "2003                   0\n",
       "2004                   0\n",
       "2005                   0\n",
       "2006                   0\n",
       "2007                   0\n",
       "2008                   0\n",
       "2009                   0\n",
       "2010                   0\n",
       "2011                   0\n",
       "2012                   0\n",
       "2013                   0\n",
       "2014                   0\n",
       "2015                   0\n",
       "2016                  52\n",
       "dtype: int64"
      ]
     },
     "execution_count": 216,
     "metadata": {},
     "output_type": "execute_result"
    }
   ],
   "source": [
    "avgcomp.isnull().sum()"
   ]
  },
  {
   "cell_type": "markdown",
   "metadata": {},
   "source": [
    "Let's take **1995-2007.** This code appends the string-value of each one (since our column names are strings) to our row of columns."
   ]
  },
  {
   "cell_type": "code",
   "execution_count": 220,
   "metadata": {
    "collapsed": false,
    "scrolled": true
   },
   "outputs": [
    {
     "data": {
      "text/plain": [
       "['Region Name',\n",
       " '1995',\n",
       " '1996',\n",
       " '1997',\n",
       " '1998',\n",
       " '1999',\n",
       " '2000',\n",
       " '2001',\n",
       " '2002',\n",
       " '2003',\n",
       " '2004',\n",
       " '2005',\n",
       " '2006',\n",
       " '2007']"
      ]
     },
     "execution_count": 220,
     "metadata": {},
     "output_type": "execute_result"
    }
   ],
   "source": [
    "columns = ['Region Name']\n",
    "for i in range(1995, 2008):\n",
    "    columns.append(str(i))\n",
    "columns"
   ]
  },
  {
   "cell_type": "markdown",
   "metadata": {},
   "source": [
    "By passing in `columns` to `avgcomp` we can retreive the part of the dataset including the columns we care about."
   ]
  },
  {
   "cell_type": "code",
   "execution_count": 221,
   "metadata": {
    "collapsed": false,
    "scrolled": true
   },
   "outputs": [
    {
     "data": {
      "text/html": [
       "<div>\n",
       "<table border=\"1\" class=\"dataframe\">\n",
       "  <thead>\n",
       "    <tr style=\"text-align: right;\">\n",
       "      <th></th>\n",
       "      <th>Region Name</th>\n",
       "      <th>1995</th>\n",
       "      <th>1996</th>\n",
       "      <th>1997</th>\n",
       "      <th>1998</th>\n",
       "      <th>1999</th>\n",
       "      <th>2000</th>\n",
       "      <th>2001</th>\n",
       "      <th>2002</th>\n",
       "      <th>2003</th>\n",
       "      <th>2004</th>\n",
       "      <th>2005</th>\n",
       "      <th>2006</th>\n",
       "      <th>2007</th>\n",
       "    </tr>\n",
       "  </thead>\n",
       "  <tbody>\n",
       "    <tr>\n",
       "      <th>6</th>\n",
       "      <td>United States</td>\n",
       "      <td>33999.0</td>\n",
       "      <td>35125.0</td>\n",
       "      <td>36588.0</td>\n",
       "      <td>38442.0</td>\n",
       "      <td>40118.0</td>\n",
       "      <td>42526.0</td>\n",
       "      <td>43978.0</td>\n",
       "      <td>44991.0</td>\n",
       "      <td>46713.0</td>\n",
       "      <td>48912.0</td>\n",
       "      <td>50722.0</td>\n",
       "      <td>52789.0</td>\n",
       "      <td>54973.0</td>\n",
       "    </tr>\n",
       "    <tr>\n",
       "      <th>39</th>\n",
       "      <td>Alabama</td>\n",
       "      <td>29477.0</td>\n",
       "      <td>30276.0</td>\n",
       "      <td>31242.0</td>\n",
       "      <td>32286.0</td>\n",
       "      <td>33571.0</td>\n",
       "      <td>34858.0</td>\n",
       "      <td>36305.0</td>\n",
       "      <td>37648.0</td>\n",
       "      <td>39270.0</td>\n",
       "      <td>40872.0</td>\n",
       "      <td>42500.0</td>\n",
       "      <td>44028.0</td>\n",
       "      <td>45498.0</td>\n",
       "    </tr>\n",
       "    <tr>\n",
       "      <th>72</th>\n",
       "      <td>Alaska</td>\n",
       "      <td>40610.0</td>\n",
       "      <td>41286.0</td>\n",
       "      <td>42139.0</td>\n",
       "      <td>43086.0</td>\n",
       "      <td>43857.0</td>\n",
       "      <td>45271.0</td>\n",
       "      <td>47518.0</td>\n",
       "      <td>49157.0</td>\n",
       "      <td>51120.0</td>\n",
       "      <td>53001.0</td>\n",
       "      <td>55458.0</td>\n",
       "      <td>57149.0</td>\n",
       "      <td>59888.0</td>\n",
       "    </tr>\n",
       "    <tr>\n",
       "      <th>105</th>\n",
       "      <td>Arizona</td>\n",
       "      <td>31021.0</td>\n",
       "      <td>32237.0</td>\n",
       "      <td>33614.0</td>\n",
       "      <td>35497.0</td>\n",
       "      <td>36870.0</td>\n",
       "      <td>39213.0</td>\n",
       "      <td>40562.0</td>\n",
       "      <td>41548.0</td>\n",
       "      <td>42801.0</td>\n",
       "      <td>44677.0</td>\n",
       "      <td>46543.0</td>\n",
       "      <td>49038.0</td>\n",
       "      <td>51283.0</td>\n",
       "    </tr>\n",
       "    <tr>\n",
       "      <th>138</th>\n",
       "      <td>Arkansas</td>\n",
       "      <td>26494.0</td>\n",
       "      <td>27247.0</td>\n",
       "      <td>28317.0</td>\n",
       "      <td>29795.0</td>\n",
       "      <td>30861.0</td>\n",
       "      <td>32099.0</td>\n",
       "      <td>33386.0</td>\n",
       "      <td>34568.0</td>\n",
       "      <td>36147.0</td>\n",
       "      <td>37869.0</td>\n",
       "      <td>39288.0</td>\n",
       "      <td>40557.0</td>\n",
       "      <td>42465.0</td>\n",
       "    </tr>\n",
       "  </tbody>\n",
       "</table>\n",
       "</div>"
      ],
      "text/plain": [
       "       Region Name     1995     1996     1997     1998     1999     2000  \\\n",
       "6    United States  33999.0  35125.0  36588.0  38442.0  40118.0  42526.0   \n",
       "39         Alabama  29477.0  30276.0  31242.0  32286.0  33571.0  34858.0   \n",
       "72          Alaska  40610.0  41286.0  42139.0  43086.0  43857.0  45271.0   \n",
       "105        Arizona  31021.0  32237.0  33614.0  35497.0  36870.0  39213.0   \n",
       "138       Arkansas  26494.0  27247.0  28317.0  29795.0  30861.0  32099.0   \n",
       "\n",
       "        2001     2002     2003     2004     2005     2006     2007  \n",
       "6    43978.0  44991.0  46713.0  48912.0  50722.0  52789.0  54973.0  \n",
       "39   36305.0  37648.0  39270.0  40872.0  42500.0  44028.0  45498.0  \n",
       "72   47518.0  49157.0  51120.0  53001.0  55458.0  57149.0  59888.0  \n",
       "105  40562.0  41548.0  42801.0  44677.0  46543.0  49038.0  51283.0  \n",
       "138  33386.0  34568.0  36147.0  37869.0  39288.0  40557.0  42465.0  "
      ]
     },
     "execution_count": 221,
     "metadata": {},
     "output_type": "execute_result"
    }
   ],
   "source": [
    "avg_subset = avgcomp[columns]\n",
    "avg_subset.head()"
   ]
  },
  {
   "cell_type": "markdown",
   "metadata": {},
   "source": [
    "Now let's filter out our states again."
   ]
  },
  {
   "cell_type": "code",
   "execution_count": 222,
   "metadata": {
    "collapsed": false
   },
   "outputs": [
    {
     "data": {
      "text/html": [
       "<div>\n",
       "<table border=\"1\" class=\"dataframe\">\n",
       "  <thead>\n",
       "    <tr style=\"text-align: right;\">\n",
       "      <th></th>\n",
       "      <th>Region Name</th>\n",
       "      <th>1995</th>\n",
       "      <th>1996</th>\n",
       "      <th>1997</th>\n",
       "      <th>1998</th>\n",
       "      <th>1999</th>\n",
       "      <th>2000</th>\n",
       "      <th>2001</th>\n",
       "      <th>2002</th>\n",
       "      <th>2003</th>\n",
       "      <th>2004</th>\n",
       "      <th>2005</th>\n",
       "      <th>2006</th>\n",
       "      <th>2007</th>\n",
       "    </tr>\n",
       "  </thead>\n",
       "  <tbody>\n",
       "    <tr>\n",
       "      <th>171</th>\n",
       "      <td>California</td>\n",
       "      <td>37455.0</td>\n",
       "      <td>38521.0</td>\n",
       "      <td>40429.0</td>\n",
       "      <td>42415.0</td>\n",
       "      <td>44934.0</td>\n",
       "      <td>49173.0</td>\n",
       "      <td>50153.0</td>\n",
       "      <td>50824.0</td>\n",
       "      <td>53180.0</td>\n",
       "      <td>56443.0</td>\n",
       "      <td>58649.0</td>\n",
       "      <td>61086.0</td>\n",
       "      <td>63593.0</td>\n",
       "    </tr>\n",
       "    <tr>\n",
       "      <th>1455</th>\n",
       "      <td>Texas</td>\n",
       "      <td>32105.0</td>\n",
       "      <td>33397.0</td>\n",
       "      <td>35070.0</td>\n",
       "      <td>37170.0</td>\n",
       "      <td>38815.0</td>\n",
       "      <td>41211.0</td>\n",
       "      <td>42706.0</td>\n",
       "      <td>43217.0</td>\n",
       "      <td>44640.0</td>\n",
       "      <td>46426.0</td>\n",
       "      <td>48396.0</td>\n",
       "      <td>50967.0</td>\n",
       "      <td>53181.0</td>\n",
       "    </tr>\n",
       "    <tr>\n",
       "      <th>1619</th>\n",
       "      <td>West Virginia</td>\n",
       "      <td>29215.0</td>\n",
       "      <td>29881.0</td>\n",
       "      <td>30549.0</td>\n",
       "      <td>31287.0</td>\n",
       "      <td>32266.0</td>\n",
       "      <td>33671.0</td>\n",
       "      <td>35003.0</td>\n",
       "      <td>35805.0</td>\n",
       "      <td>37104.0</td>\n",
       "      <td>38496.0</td>\n",
       "      <td>39825.0</td>\n",
       "      <td>41806.0</td>\n",
       "      <td>42744.0</td>\n",
       "    </tr>\n",
       "    <tr>\n",
       "      <th>1685</th>\n",
       "      <td>Wyoming</td>\n",
       "      <td>27835.0</td>\n",
       "      <td>28451.0</td>\n",
       "      <td>29624.0</td>\n",
       "      <td>30560.0</td>\n",
       "      <td>31767.0</td>\n",
       "      <td>33189.0</td>\n",
       "      <td>35005.0</td>\n",
       "      <td>36339.0</td>\n",
       "      <td>38000.0</td>\n",
       "      <td>39848.0</td>\n",
       "      <td>42087.0</td>\n",
       "      <td>46854.0</td>\n",
       "      <td>50059.0</td>\n",
       "    </tr>\n",
       "  </tbody>\n",
       "</table>\n",
       "</div>"
      ],
      "text/plain": [
       "        Region Name     1995     1996     1997     1998     1999     2000  \\\n",
       "171      California  37455.0  38521.0  40429.0  42415.0  44934.0  49173.0   \n",
       "1455          Texas  32105.0  33397.0  35070.0  37170.0  38815.0  41211.0   \n",
       "1619  West Virginia  29215.0  29881.0  30549.0  31287.0  32266.0  33671.0   \n",
       "1685        Wyoming  27835.0  28451.0  29624.0  30560.0  31767.0  33189.0   \n",
       "\n",
       "         2001     2002     2003     2004     2005     2006     2007  \n",
       "171   50153.0  50824.0  53180.0  56443.0  58649.0  61086.0  63593.0  \n",
       "1455  42706.0  43217.0  44640.0  46426.0  48396.0  50967.0  53181.0  \n",
       "1619  35003.0  35805.0  37104.0  38496.0  39825.0  41806.0  42744.0  \n",
       "1685  35005.0  36339.0  38000.0  39848.0  42087.0  46854.0  50059.0  "
      ]
     },
     "execution_count": 222,
     "metadata": {},
     "output_type": "execute_result"
    }
   ],
   "source": [
    "states = ['Texas', 'California', 'Wyoming', 'West Virginia']\n",
    "avg_states = avg_subset[avg_subset['Region Name'].isin(states)]\n",
    "avg_states"
   ]
  },
  {
   "cell_type": "markdown",
   "metadata": {},
   "source": [
    "Now, we'll populate x with a list of years. The way we do this is use the `range` object, then convert it to a list. Note that the second argument to `range` isn't included `[y1, y2)`. Then for our years, we take all the columns names excluding the first one which is 'Region Name' with `columns[1:]` indicating columns 1 (0-indexed) to the end. Finally, we plot it."
   ]
  },
  {
   "cell_type": "code",
   "execution_count": 115,
   "metadata": {
    "collapsed": false
   },
   "outputs": [
    {
     "data": {
      "image/png": "[encoded data removed]",
      "text/plain": [
       "<matplotlib.figure.Figure at 0x11b656ac8>"
      ]
     },
     "metadata": {},
     "output_type": "display_data"
    }
   ],
   "source": [
    "for _idx, row in employ_states.iterrows():\n",
    "    x = list(range(1995, 2008))\n",
    "    years = columns[1:]\n",
    "    y = [row[col] for col in years]\n",
    "    plt.plot(x, y, label=row['Region Name'])\n",
    "    plt.legend()\n",
    "    plt.xticks(x, rotation='vertical')"
   ]
  },
  {
   "cell_type": "markdown",
   "metadata": {},
   "source": [
    "Slightly interesting: Wyoming passed West Virginia around 2001. You can do better than this though! "
   ]
  },
  {
   "cell_type": "markdown",
   "metadata": {},
   "source": [
    "### Next example: looking for correlations!"
   ]
  },
  {
   "cell_type": "markdown",
   "metadata": {},
   "source": [
    "In this example, we'll explore the relationship between the two indicators: *Population 25 Years Old and Over who Have Bachelor's Or Higher Degree* and *Violent Crime*. We'll also perform and plot a linear regression on the data and check the R^2 coefficient.\n",
    "\n",
    "First, we'll filter out our columns. Next, we'll see for which year(s) both values are defined. Because the Bachelor's degree column is only given to us for a few years in this dataset, we'll need to find one of those. As seen in the results, 2000 and 2009 are two examples of years where none of the values are Null indicating that we have data for both fields for those years."
   ]
  },
  {
   "cell_type": "code",
   "execution_count": 167,
   "metadata": {
    "collapsed": false
   },
   "outputs": [
    {
     "data": {
      "text/plain": [
       "Region Name             0\n",
       "Indicator               0\n",
       "Indicator Name          0\n",
       "Indicator - Note       52\n",
       "Indicator - Source      0\n",
       "Indicator - unit        0\n",
       "Units                   0\n",
       "1990                   52\n",
       "1991                   52\n",
       "1992                   52\n",
       "1993                   52\n",
       "1994                   52\n",
       "1995                   52\n",
       "1996                   52\n",
       "1997                   52\n",
       "1998                   52\n",
       "1999                   52\n",
       "2000                    0\n",
       "2001                   52\n",
       "2002                   52\n",
       "2003                   52\n",
       "2004                   52\n",
       "2005                   52\n",
       "2006                   52\n",
       "2007                   52\n",
       "2008                   52\n",
       "2009                    0\n",
       "2010                   52\n",
       "2011                    0\n",
       "2012                    0\n",
       "2013                    0\n",
       "2014                   52\n",
       "2015                  104\n",
       "2016                  104\n",
       "dtype: int64"
      ]
     },
     "execution_count": 167,
     "metadata": {},
     "output_type": "execute_result"
    }
   ],
   "source": [
    "cols = ['Population 25 Years Old and Over Who Have Bachelor\\'s or Higher Degree', 'Violent Crime']\n",
    "newdf = df[df['Indicator Name'].isin(cols)]\n",
    "newdf.isnull().sum()"
   ]
  },
  {
   "cell_type": "markdown",
   "metadata": {},
   "source": [
    "Filter out the two years we care about, as well as the region and indicator of course."
   ]
  },
  {
   "cell_type": "code",
   "execution_count": 223,
   "metadata": {
    "collapsed": false
   },
   "outputs": [],
   "source": [
    "newcols = ['Region Name', 'Indicator Name', '2000', '2009']\n",
    "newdf = newdf[newcols]"
   ]
  },
  {
   "cell_type": "code",
   "execution_count": 225,
   "metadata": {
    "collapsed": false
   },
   "outputs": [
    {
     "data": {
      "text/html": [
       "<div>\n",
       "<table border=\"1\" class=\"dataframe\">\n",
       "  <thead>\n",
       "    <tr style=\"text-align: right;\">\n",
       "      <th></th>\n",
       "      <th>Region Name</th>\n",
       "      <th>Indicator Name</th>\n",
       "      <th>2000</th>\n",
       "      <th>2009</th>\n",
       "    </tr>\n",
       "  </thead>\n",
       "  <tbody>\n",
       "    <tr>\n",
       "      <th>13</th>\n",
       "      <td>United States</td>\n",
       "      <td>Violent Crime</td>\n",
       "      <td>506.5</td>\n",
       "      <td>431.9000</td>\n",
       "    </tr>\n",
       "    <tr>\n",
       "      <th>24</th>\n",
       "      <td>United States</td>\n",
       "      <td>Population 25 Years Old and Over Who Have Bachelor's or Higher Degree</td>\n",
       "      <td>24.4</td>\n",
       "      <td>28.0223</td>\n",
       "    </tr>\n",
       "    <tr>\n",
       "      <th>46</th>\n",
       "      <td>Alabama</td>\n",
       "      <td>Violent Crime</td>\n",
       "      <td>486.2</td>\n",
       "      <td>450.1000</td>\n",
       "    </tr>\n",
       "    <tr>\n",
       "      <th>57</th>\n",
       "      <td>Alabama</td>\n",
       "      <td>Population 25 Years Old and Over Who Have Bachelor's or Higher Degree</td>\n",
       "      <td>19.0</td>\n",
       "      <td>22.0040</td>\n",
       "    </tr>\n",
       "    <tr>\n",
       "      <th>79</th>\n",
       "      <td>Alaska</td>\n",
       "      <td>Violent Crime</td>\n",
       "      <td>566.9</td>\n",
       "      <td>633.4000</td>\n",
       "    </tr>\n",
       "  </tbody>\n",
       "</table>\n",
       "</div>"
      ],
      "text/plain": [
       "      Region Name  \\\n",
       "13  United States   \n",
       "24  United States   \n",
       "46        Alabama   \n",
       "57        Alabama   \n",
       "79         Alaska   \n",
       "\n",
       "                                                           Indicator Name  \\\n",
       "13                                                          Violent Crime   \n",
       "24  Population 25 Years Old and Over Who Have Bachelor's or Higher Degree   \n",
       "46                                                          Violent Crime   \n",
       "57  Population 25 Years Old and Over Who Have Bachelor's or Higher Degree   \n",
       "79                                                          Violent Crime   \n",
       "\n",
       "     2000      2009  \n",
       "13  506.5  431.9000  \n",
       "24   24.4   28.0223  \n",
       "46  486.2  450.1000  \n",
       "57   19.0   22.0040  \n",
       "79  566.9  633.4000  "
      ]
     },
     "execution_count": 225,
     "metadata": {},
     "output_type": "execute_result"
    }
   ],
   "source": [
    "newdf.head()"
   ]
  },
  {
   "cell_type": "markdown",
   "metadata": {},
   "source": [
    "Now, we have **two entries** per region: one for violent crime and one for degrees. What we want to do is get a list of violent crime rates for each region in 2000, and another list of the population of degrees for each region in 2000. We'll do that below. Note that we cast it to a `list` to make it a little easier when plotting."
   ]
  },
  {
   "cell_type": "code",
   "execution_count": 174,
   "metadata": {
    "collapsed": false
   },
   "outputs": [],
   "source": [
    "crime2000 = newdf[newdf['Indicator Name'] == 'Violent Crime']['2000']\n",
    "crime2000 = list(crime2000)\n",
    "bachelor2000 = newdf[newdf['Indicator Name'] == 'Population 25 Years Old and Over Who Have Bachelor\\'s or Higher Degree']['2000']\n",
    "bachelor2000 = list(bachelor2000)"
   ]
  },
  {
   "cell_type": "markdown",
   "metadata": {},
   "source": [
    "Now, using `matplotlib` we'll **plot** the two variables. "
   ]
  },
  {
   "cell_type": "code",
   "execution_count": 176,
   "metadata": {
    "collapsed": false,
    "scrolled": true
   },
   "outputs": [
    {
     "data": {
      "text/plain": [
       "<matplotlib.text.Text at 0x11fd8c0f0>"
      ]
     },
     "execution_count": 176,
     "metadata": {},
     "output_type": "execute_result"
    },
    {
     "data": {
      "image/png": "[encoded data removed]",
      "text/plain": [
       "<matplotlib.figure.Figure at 0x11fb636a0>"
      ]
     },
     "metadata": {},
     "output_type": "display_data"
    }
   ],
   "source": [
    "plt.scatter(crime2000, bachelor2000)\n",
    "plt.xlabel('Violent Crime')\n",
    "plt.ylabel('Population with B.S.')"
   ]
  },
  {
   "cell_type": "markdown",
   "metadata": {},
   "source": [
    "Doesn't look like much of a trend-- let's try 2009."
   ]
  },
  {
   "cell_type": "markdown",
   "metadata": {},
   "source": [
    "Same code and results for **2009**"
   ]
  },
  {
   "cell_type": "code",
   "execution_count": 178,
   "metadata": {
    "collapsed": false
   },
   "outputs": [
    {
     "data": {
      "text/plain": [
       "<matplotlib.text.Text at 0x11fad5518>"
      ]
     },
     "execution_count": 178,
     "metadata": {},
     "output_type": "execute_result"
    },
    {
     "data": {
      "image/png": "[encoded data removed]",
      "text/plain": [
       "<matplotlib.figure.Figure at 0x11f7cd9b0>"
      ]
     },
     "metadata": {},
     "output_type": "display_data"
    }
   ],
   "source": [
    "crime2009 = newdf[newdf['Indicator Name'] == 'Violent Crime']['2009']\n",
    "crime2009 = list(crime2009)\n",
    "bachelor2009 = newdf[newdf['Indicator Name'] == 'Population 25 Years Old and Over Who Have Bachelor\\'s or Higher Degree']['2009']\n",
    "bachelor2009 = list(bachelor2009)\n",
    "plt.scatter(crime2009, bachelor2009)\n",
    "plt.xlabel('Violent Crime')\n",
    "plt.ylabel('Population with B.S.')"
   ]
  },
  {
   "cell_type": "markdown",
   "metadata": {},
   "source": [
    "### Linear Regression"
   ]
  },
  {
   "cell_type": "markdown",
   "metadata": {},
   "source": [
    "For the sake of the example let's try fitting a linear regression to this data. We know it won't be interesting but let's just do it anyway."
   ]
  },
  {
   "cell_type": "code",
   "execution_count": 226,
   "metadata": {
    "collapsed": true
   },
   "outputs": [],
   "source": [
    "from sklearn.linear_model import LinearRegression as lr"
   ]
  },
  {
   "cell_type": "markdown",
   "metadata": {},
   "source": [
    "We create the model as `lr()` and fit our x and y variables. Next, we can score the model with the predicted values of y vs the actual values. The score is expectedly awful."
   ]
  },
  {
   "cell_type": "code",
   "execution_count": 227,
   "metadata": {
    "collapsed": false
   },
   "outputs": [
    {
     "name": "stdout",
     "output_type": "stream",
     "text": [
      "R-squared:  0.0470245157439\n"
     ]
    }
   ],
   "source": [
    "model = lr()\n",
    "x = pd.DataFrame(crime2009)\n",
    "y = pd.DataFrame(bachelor2009)\n",
    "model.fit(x, y)\n",
    "print(\"R-squared: \", model.score(x, y))"
   ]
  },
  {
   "cell_type": "markdown",
   "metadata": {},
   "source": [
    "Let's **plot** both the line and data points."
   ]
  },
  {
   "cell_type": "code",
   "execution_count": 203,
   "metadata": {
    "collapsed": false
   },
   "outputs": [
    {
     "data": {
      "text/plain": [
       "<matplotlib.text.Text at 0x121f55c18>"
      ]
     },
     "execution_count": 203,
     "metadata": {},
     "output_type": "execute_result"
    },
    {
     "data": {
      "image/png": "[encoded data removed]",
      "text/plain": [
       "<matplotlib.figure.Figure at 0x121e52358>"
      ]
     },
     "metadata": {},
     "output_type": "display_data"
    }
   ],
   "source": [
    "preds = model.predict(x)\n",
    "plt.scatter(x, y)\n",
    "plt.plot(x, preds, color='black')\n",
    "plt.xlabel('Violent Crime Rate per 100,000 people')\n",
    "plt.ylabel('% Population with Bachelor\\'s')"
   ]
  }
 ],
 "metadata": {
  "kernelspec": {
   "display_name": "Python 3",
   "language": "python",
   "name": "python3"
  },
  "language_info": {
   "codemirror_mode": {
    "name": "ipython",
    "version": 3
   },
   "file_extension": ".py",
   "mimetype": "text/x-python",
   "name": "python",
   "nbconvert_exporter": "python",
   "pygments_lexer": "ipython3",
   "version": "3.6.0"
  }
 },
 "nbformat": 4,
 "nbformat_minor": 2
}
